{
 "cells": [
  {
   "attachments": {},
   "cell_type": "markdown",
   "metadata": {},
   "source": [
    "@author: J. D. Camacho\n",
    "\n",
    "# Notebook to search the best sub-model for a given dataset\n",
    "\n",
    "This notebook will compute the best architecture and hyper-parameters for a model using the hyperband method"
   ]
  },
  {
   "cell_type": "code",
   "execution_count": null,
   "metadata": {},
   "outputs": [],
   "source": [
    "# Import basic modules\n",
    "import tensorflow as tf\n",
    "import keras_tuner as kt\n",
    "import tensorflow_datasets as tfds\n",
    "\n",
    "# physical_devices = tf.config.list_physical_devices('GPU') \n",
    "# tf.config.experimental.set_memory_growth(physical_devices[0], True)"
   ]
  },
  {
   "cell_type": "code",
   "execution_count": null,
   "metadata": {},
   "outputs": [],
   "source": [
    "%cd /app/"
   ]
  },
  {
   "cell_type": "code",
   "execution_count": null,
   "metadata": {},
   "outputs": [],
   "source": [
    "from keras_autocompressor.hypermodels import HyperAutoCompressMobileNetV2"
   ]
  },
  {
   "cell_type": "code",
   "execution_count": null,
   "metadata": {},
   "outputs": [],
   "source": [
    "# Experiment settings\n",
    "tensorflow_dataset = 'horses_or_humans'\n",
    "batch_size = 8"
   ]
  },
  {
   "cell_type": "code",
   "execution_count": null,
   "metadata": {},
   "outputs": [],
   "source": [
    "(ds_train, ds_test), ds_info = tfds.load(\n",
    "    tensorflow_dataset, \n",
    "    split=['train', 'test'], \n",
    "    shuffle_files=True, \n",
    "    with_info=True, \n",
    "    as_supervised=True\n",
    ")"
   ]
  },
  {
   "cell_type": "code",
   "execution_count": null,
   "metadata": {},
   "outputs": [],
   "source": [
    "fig = tfds.show_examples(ds_train, ds_info)"
   ]
  },
  {
   "cell_type": "code",
   "execution_count": null,
   "metadata": {},
   "outputs": [],
   "source": [
    "def preprocess_images(image, label, classes=ds_info.features['label'].num_classes):\n",
    "    # Resize images\n",
    "    image = tf.cast(image, tf.float32)\n",
    "    image = tf.image.resize(image, (224,224))\n",
    "\n",
    "    # Preprocess with the MobileNet function\n",
    "    image = tf.keras.applications.mobilenet.preprocess_input(image)\n",
    "\n",
    "    # Change labels to categorical\n",
    "    label = tf.cast(tf.one_hot(tf.cast(label, tf.int32), classes), dtype=tf.float32)\n",
    "    \n",
    "    return image, label"
   ]
  },
  {
   "cell_type": "code",
   "execution_count": null,
   "metadata": {},
   "outputs": [],
   "source": [
    "ds_train = ds_train.map(preprocess_images, num_parallel_calls=tf.data.AUTOTUNE)\n",
    "ds_test = ds_test.map(preprocess_images, num_parallel_calls=tf.data.AUTOTUNE)"
   ]
  },
  {
   "cell_type": "code",
   "execution_count": null,
   "metadata": {},
   "outputs": [],
   "source": [
    "# Create pipeline for inference in both splits\n",
    "\n",
    "ds_train = ds_train.shuffle(ds_info.splits['train'].num_examples)\n",
    "ds_train = ds_train.batch(batch_size)   \n",
    "# ds_train = ds_train.cache()   \n",
    "# ds_train = ds_train.prefetch(tf.data .AUTOTUNE)\n",
    "\n",
    "ds_test = ds_test.batch(batch_size)\n",
    "# ds_test = ds_test.cache()\n",
    "# ds_test = ds_test.prefetch(tf.data.AUTOTUNE)"
   ]
  },
  {
   "cell_type": "code",
   "execution_count": null,
   "metadata": {},
   "outputs": [],
   "source": [
    "# Hyper model\n",
    "HyperModel = HyperAutoCompressMobileNetV2(\n",
    "    max_parmeters=2309581,\n",
    "    num_classes=ds_info.features['label'].num_classes,\n",
    "    tau=0.4,\n",
    ")\n",
    "\n",
    "mytuner = kt.Hyperband(HyperModel,\n",
    "                       max_epochs=5,\n",
    "                       objective=kt.Objective(\"val_acc_comp\", direction=\"max\"),\n",
    "                       directory='./logs/mobilenetv2/',\n",
    "                       project_name=tensorflow_dataset,\n",
    "                       overwrite=True)"
   ]
  },
  {
   "cell_type": "code",
   "execution_count": null,
   "metadata": {},
   "outputs": [],
   "source": [
    "mytuner.search(ds_train, validation_data=ds_test)"
   ]
  },
  {
   "cell_type": "code",
   "execution_count": null,
   "metadata": {},
   "outputs": [],
   "source": [
    "best_hp = mytuner.get_best_hyperparameters()[0]"
   ]
  },
  {
   "cell_type": "code",
   "execution_count": null,
   "metadata": {},
   "outputs": [],
   "source": [
    "best_hp.values"
   ]
  },
  {
   "cell_type": "code",
   "execution_count": null,
   "metadata": {},
   "outputs": [],
   "source": [
    "best_model = mytuner.get_best_models()[0]"
   ]
  },
  {
   "cell_type": "code",
   "execution_count": null,
   "metadata": {},
   "outputs": [],
   "source": [
    "for sub_model in mytuner.get_best_models(15):\n",
    "    metrics = sub_model.evaluate(val_ds, verbose=0)\n",
    "    print('val_accuracy: {}  -- params: {}'.format(metrics[1], sub_model.count_params()))"
   ]
  },
  {
   "cell_type": "code",
   "execution_count": null,
   "metadata": {},
   "outputs": [],
   "source": [
    "best_model.summary()"
   ]
  },
  {
   "cell_type": "code",
   "execution_count": null,
   "metadata": {},
   "outputs": [],
   "source": [
    "best_model.evaluate(val_ds)"
   ]
  },
  {
   "cell_type": "code",
   "execution_count": null,
   "metadata": {},
   "outputs": [],
   "source": [
    "mytuner.results_summary()"
   ]
  }
 ],
 "metadata": {
  "kernelspec": {
   "display_name": "TF_V24",
   "language": "python",
   "name": "python3"
  },
  "language_info": {
   "codemirror_mode": {
    "name": "ipython",
    "version": 3
   },
   "file_extension": ".py",
   "mimetype": "text/x-python",
   "name": "python",
   "nbconvert_exporter": "python",
   "pygments_lexer": "ipython3",
   "version": "3.6.9"
  },
  "orig_nbformat": 2,
  "vscode": {
   "interpreter": {
    "hash": "a10ff3ee30b65286ff443e7a8165aacf8c3a251c5ca934082f0ceaa34dfa7297"
   }
  }
 },
 "nbformat": 4,
 "nbformat_minor": 2
}
